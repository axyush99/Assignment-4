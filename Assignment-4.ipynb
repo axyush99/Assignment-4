{
 "cells": [
  {
   "cell_type": "code",
   "execution_count": 3,
   "id": "a367a7f0-8ec8-4683-b83b-917cd2ab746d",
   "metadata": {},
   "outputs": [
    {
     "name": "stdin",
     "output_type": "stream",
     "text": [
      "Enter positive/negative number: -9\n"
     ]
    },
    {
     "name": "stdout",
     "output_type": "stream",
     "text": [
      "Negative Number\n"
     ]
    }
   ],
   "source": [
    "x=int(input(\"Enter positive/negative number:\"))\n",
    "if(x>0):\n",
    "    print(\"Positive Number\")\n",
    "else:\n",
    "    print(\"Negative Number\")"
   ]
  },
  {
   "cell_type": "code",
   "execution_count": 5,
   "id": "64b5a5d1-edef-4255-8136-99830747fa87",
   "metadata": {},
   "outputs": [
    {
     "name": "stdin",
     "output_type": "stream",
     "text": [
      "Enter Age: 19\n"
     ]
    },
    {
     "name": "stdout",
     "output_type": "stream",
     "text": [
      "Eligible for Vote\n"
     ]
    }
   ],
   "source": [
    "x=int(input(\"Enter Age:\"))\n",
    "if(x>=18):\n",
    "    print(\"Eligible for Vote\")\n",
    "else:\n",
    "    print(\"Not Eligible for Vote\")"
   ]
  },
  {
   "cell_type": "code",
   "execution_count": 6,
   "id": "6d1d0a79-77aa-4105-9d92-09318395b86f",
   "metadata": {},
   "outputs": [
    {
     "name": "stdout",
     "output_type": "stream",
     "text": [
      "a is greater\n"
     ]
    }
   ],
   "source": [
    "a=10\n",
    "b=4\n",
    "if(a>b):\n",
    "    print(\"a is greater\")\n",
    "else:\n",
    "    print(\"b is greater\")"
   ]
  },
  {
   "cell_type": "code",
   "execution_count": 7,
   "id": "2e65699b-fa01-45e0-aa6a-4f561464a49f",
   "metadata": {},
   "outputs": [
    {
     "name": "stdin",
     "output_type": "stream",
     "text": [
      "Enter Year: 2016\n"
     ]
    },
    {
     "name": "stdout",
     "output_type": "stream",
     "text": [
      "2016 is leap year\n"
     ]
    }
   ],
   "source": [
    "y=int(input(\"Enter Year:\"))\n",
    "if(y%4==0):\n",
    "    print(y,\"is leap year\")\n",
    "else:\n",
    "    print(y,\"is not a leap year\")"
   ]
  },
  {
   "cell_type": "code",
   "execution_count": 14,
   "id": "2f634c65-1bc3-4c20-ad24-17ba7a91f55a",
   "metadata": {},
   "outputs": [
    {
     "name": "stdin",
     "output_type": "stream",
     "text": [
      "Enter a Character: q\n"
     ]
    },
    {
     "name": "stdout",
     "output_type": "stream",
     "text": [
      "q is consonant\n"
     ]
    }
   ],
   "source": [
    "ch=str(input(\"Enter a Character:\"))\n",
    "if ch in \"aeiouAEIOU\":\n",
    "    print(ch,\"is vowel\")\n",
    "else:\n",
    "    print(ch,\"is consonant\")"
   ]
  },
  {
   "cell_type": "code",
   "execution_count": 15,
   "id": "ae699097-11c6-48a4-960b-9c4aa313c44b",
   "metadata": {},
   "outputs": [
    {
     "name": "stdin",
     "output_type": "stream",
     "text": [
      "Enter a number: 22\n"
     ]
    },
    {
     "name": "stdout",
     "output_type": "stream",
     "text": [
      "22 is even\n"
     ]
    }
   ],
   "source": [
    "x=int(input(\"Enter a number:\"))\n",
    "if(x%2==0):\n",
    "    print(x,\"is even\")\n",
    "else:\n",
    "    print(x,\"is odd\")"
   ]
  },
  {
   "cell_type": "code",
   "execution_count": 16,
   "id": "57da7645-5d5f-4f97-813c-f975a0c6239e",
   "metadata": {},
   "outputs": [
    {
     "name": "stdin",
     "output_type": "stream",
     "text": [
      "Enter a number:  12\n"
     ]
    },
    {
     "name": "stdout",
     "output_type": "stream",
     "text": [
      "The absolute value of 12.0 is 12.0\n"
     ]
    }
   ],
   "source": [
    "def absolute_value(number):\n",
    "    if number < 0:\n",
    "        return -number\n",
    "    else:\n",
    "        return number\n",
    "num = float(input(\"Enter a number: \"))\n",
    "result = absolute_value(num)\n",
    "print(f\"The absolute value of {num} is {result}\")\n"
   ]
  },
  {
   "cell_type": "code",
   "execution_count": 18,
   "id": "fb706050-45c4-4b3f-bd74-f67410aed9d8",
   "metadata": {},
   "outputs": [
    {
     "name": "stdout",
     "output_type": "stream",
     "text": [
      "20 is greater\n"
     ]
    }
   ],
   "source": [
    "a=10\n",
    "b=20\n",
    "c=15\n",
    "if(a>b and a>c):\n",
    "    print(a,\"is greater\")\n",
    "elif(b>a and b>c):\n",
    "    print(b,\"is greater\")\n",
    "else:\n",
    "    print(c,\"is greater\")"
   ]
  },
  {
   "cell_type": "code",
   "execution_count": 20,
   "id": "98d447e7-4235-45ee-ac48-8334f373b080",
   "metadata": {},
   "outputs": [
    {
     "name": "stdin",
     "output_type": "stream",
     "text": [
      "Enter a String: aayush\n"
     ]
    },
    {
     "name": "stdout",
     "output_type": "stream",
     "text": [
      "String is not Palindrome\n"
     ]
    }
   ],
   "source": [
    "str1=str(input(\"Enter a String:\"))\n",
    "if(str1==str1[::-1]):\n",
    "    print(\"String is Palindrome\")\n",
    "else:\n",
    "    print(\"String is not Palindrome\")"
   ]
  },
  {
   "cell_type": "code",
   "execution_count": 21,
   "id": "c64b69ca-6535-4e8d-bd50-9f20b8508efe",
   "metadata": {},
   "outputs": [
    {
     "name": "stdin",
     "output_type": "stream",
     "text": [
      "Enter Marks: 85\n"
     ]
    },
    {
     "name": "stdout",
     "output_type": "stream",
     "text": [
      "A Grade\n"
     ]
    }
   ],
   "source": [
    "grd=int(input(\"Enter Marks:\"))\n",
    "if(grd>=90):\n",
    "    print(\"A+ Grade\")\n",
    "elif(grd>=80 & grd<90):\n",
    "    print(\"A Grade\")\n",
    "elif(grd>=70 & grd<80):\n",
    "    print(\"B Grade\")\n",
    "else:\n",
    "    print(\"Lower Grade Improvement needed\")"
   ]
  },
  {
   "cell_type": "code",
   "execution_count": 1,
   "id": "f0877284-e429-42e0-916c-31ec65c06d14",
   "metadata": {},
   "outputs": [
    {
     "name": "stdout",
     "output_type": "stream",
     "text": [
      "20 is greater\n"
     ]
    }
   ],
   "source": [
    "a=10\n",
    "b=20\n",
    "c=15\n",
    "if(a>b and a>c):\n",
    "    print(a,\"is greater\")\n",
    "elif(b>a and b>c):\n",
    "    print(b,\"is greater\")\n",
    "else:\n",
    "    print(c,\"is greater\")"
   ]
  },
  {
   "cell_type": "code",
   "execution_count": 4,
   "id": "b1ea971a-3bc5-43a0-8cae-955ed10e0253",
   "metadata": {},
   "outputs": [
    {
     "name": "stdout",
     "output_type": "stream",
     "text": [
      "Isoceles Triangle\n"
     ]
    }
   ],
   "source": [
    "a=10\n",
    "b=20\n",
    "c=10\n",
    "if(a==b and a==c):\n",
    "    print(\"Equilateral Triangle\")\n",
    "elif(a==b or b==c or a==c):\n",
    "    print(\"Isoceles Triangle\")\n",
    "else:\n",
    "    print(\"Scalene Triangle\")"
   ]
  },
  {
   "cell_type": "code",
   "execution_count": 6,
   "id": "b3ff8e78-7305-419f-95a3-203a733b6a42",
   "metadata": {},
   "outputs": [
    {
     "name": "stdin",
     "output_type": "stream",
     "text": [
      "Enter Year: 2016\n"
     ]
    },
    {
     "name": "stdout",
     "output_type": "stream",
     "text": [
      "2016 is a leap year but not a century year\n"
     ]
    }
   ],
   "source": [
    "y=int(input(\"Enter Year:\"))\n",
    "if(y%4==0 and y%100!=0):\n",
    "    print(y,\"is a leap year but not a century year\")\n",
    "elif(y%4==0 and y%100==0):\n",
    "    print(y,\"is a leap year also a century year\")\n",
    "else:\n",
    "    print(y,\"is a not leap year and not a century year\")"
   ]
  },
  {
   "cell_type": "code",
   "execution_count": 9,
   "id": "d3bd3f84-e73f-424f-8242-2da9494eca9c",
   "metadata": {},
   "outputs": [
    {
     "name": "stdin",
     "output_type": "stream",
     "text": [
      "Enter any Number: 9\n"
     ]
    },
    {
     "name": "stdout",
     "output_type": "stream",
     "text": [
      "Number is positive\n"
     ]
    }
   ],
   "source": [
    "a=int(input(\"Enter any Number:\"))\n",
    "if(a==0):\n",
    "    print(\"Number is zero\")\n",
    "elif(a>0):\n",
    "    print(\"Number is positive\")\n",
    "else:\n",
    "    print(\"Number is negative\")"
   ]
  },
  {
   "cell_type": "code",
   "execution_count": 11,
   "id": "16982308-9bad-4e0c-9f6d-1cd30997d53c",
   "metadata": {},
   "outputs": [
    {
     "name": "stdin",
     "output_type": "stream",
     "text": [
      "Enter Age: 15\n"
     ]
    },
    {
     "name": "stdout",
     "output_type": "stream",
     "text": [
      "Teenager\n"
     ]
    }
   ],
   "source": [
    "age=int(input(\"Enter Age:\"))\n",
    "if(age>=13 and age<=19):\n",
    "    print(\"Teenager\")\n",
    "elif(age>19):\n",
    "    print(\"Adult\")\n",
    "else:\n",
    "    print(\"Kid\")"
   ]
  },
  {
   "cell_type": "code",
   "execution_count": 12,
   "id": "a431f5f7-108e-49ce-9753-b6b687a74c77",
   "metadata": {},
   "outputs": [
    {
     "name": "stdin",
     "output_type": "stream",
     "text": [
      "Enter Angle: 120\n"
     ]
    },
    {
     "name": "stdout",
     "output_type": "stream",
     "text": [
      "Obtuse Angle\n"
     ]
    }
   ],
   "source": [
    "ang=int(input(\"Enter Angle:\"))\n",
    "if(ang==90):\n",
    "    print(\"Right Angle\")\n",
    "elif(ang<90):\n",
    "    print(\"Acute Angle\")\n",
    "elif(ang>90 and ang<180):\n",
    "    print(\"Obtuse Angle\")\n",
    "else:\n",
    "    print(\"Angle Invalid\")"
   ]
  },
  {
   "cell_type": "code",
   "execution_count": 14,
   "id": "152d115f-3983-4eae-b3c9-faf935b16b96",
   "metadata": {},
   "outputs": [
    {
     "name": "stdin",
     "output_type": "stream",
     "text": [
      "Enter the coefficient a:  4\n",
      "Enter the coefficient b:  5\n",
      "Enter the coefficient c:  6\n"
     ]
    },
    {
     "name": "stdout",
     "output_type": "stream",
     "text": [
      "Root 1: (-0.625+1.0532687216470449j)\n",
      "Root 2: (-0.625-1.0532687216470449j)\n"
     ]
    }
   ],
   "source": [
    "import cmath \n",
    "a = float(input(\"Enter the coefficient a: \"))\n",
    "b = float(input(\"Enter the coefficient b: \"))\n",
    "c = float(input(\"Enter the coefficient c: \"))\n",
    "discriminant = b**2 - 4*a*c\n",
    "if discriminant >= 0:\n",
    "    root1 = (-b + cmath.sqrt(discriminant)) / (2*a)\n",
    "    root2 = (-b - cmath.sqrt(discriminant)) / (2*a)\n",
    "    print(\"Root 1:\", root1)\n",
    "    print(\"Root 2:\", root2)\n",
    "else:\n",
    "    real_part = -b / (2*a)\n",
    "    imaginary_part = cmath.sqrt(abs(discriminant)) / (2*a)\n",
    "    root1 = complex(real_part, imaginary_part)\n",
    "    root2 = complex(real_part, -imaginary_part)\n",
    "    print(\"Root 1:\", root1)\n",
    "    print(\"Root 2:\", root2)"
   ]
  },
  {
   "cell_type": "code",
   "execution_count": 15,
   "id": "08c00b6a-9af5-4df8-9a3d-ff7ce56f2610",
   "metadata": {},
   "outputs": [
    {
     "name": "stdin",
     "output_type": "stream",
     "text": [
      "Enter a day number: 5\n"
     ]
    },
    {
     "name": "stdout",
     "output_type": "stream",
     "text": [
      "Friday\n"
     ]
    }
   ],
   "source": [
    "day= int(input(\"Enter a day number:\"))\n",
    "if(day==1):\n",
    "    print(\"Monday\")\n",
    "elif(day==2):\n",
    "    print(\"Tuesday\")\n",
    "elif(day==3):\n",
    "    print(\"Wednesday\")\n",
    "elif(day==4):\n",
    "    print(\"Thursday\")\n",
    "elif(day==5):\n",
    "    print(\"Friday\")\n",
    "elif(day==6):\n",
    "    print(\"Satday\")\n",
    "elif(day==7):\n",
    "    print(\"Sunday\")\n",
    "else:\n",
    "    print(\"Invalid Day\")"
   ]
  },
  {
   "cell_type": "code",
   "execution_count": 18,
   "id": "6317159f-7b21-47d8-a67d-0c2197061de7",
   "metadata": {},
   "outputs": [
    {
     "name": "stdin",
     "output_type": "stream",
     "text": [
      "Enter a year:  1900\n"
     ]
    },
    {
     "name": "stdout",
     "output_type": "stream",
     "text": [
      "1900 is not a leap year or not evenly divisible by 400.\n"
     ]
    }
   ],
   "source": [
    "year = int(input(\"Enter a year: \"))\n",
    "if (year % 4 == 0 and year % 100 != 0) or (year % 400 == 0):\n",
    "    print(year, \"is a leap year and evenly divisible by 400.\")\n",
    "else:\n",
    "    print(year, \"is not a leap year or not evenly divisible by 400.\")\n"
   ]
  },
  {
   "cell_type": "code",
   "execution_count": 19,
   "id": "e0ee1333-6894-4874-b009-22224db96d73",
   "metadata": {},
   "outputs": [
    {
     "name": "stdin",
     "output_type": "stream",
     "text": [
      "Enter a number:  5\n"
     ]
    },
    {
     "name": "stdout",
     "output_type": "stream",
     "text": [
      "5 is a prime number.\n"
     ]
    }
   ],
   "source": [
    "num = int(input(\"Enter a number: \"))\n",
    "if num > 1:\n",
    "    for i in range(2, int(num ** 0.5) + 1):\n",
    "        if (num % i) == 0:\n",
    "            print(num, \"is not a prime number.\")\n",
    "            print(i, \"times\", num // i, \"is\", num)\n",
    "            break\n",
    "    else:\n",
    "        print(num, \"is a prime number.\")\n",
    "else:\n",
    "    print(num, \"is not a prime number.\")\n"
   ]
  },
  {
   "cell_type": "code",
   "execution_count": 22,
   "id": "d0f63701-2a35-4170-ae24-67caef49bea0",
   "metadata": {},
   "outputs": [
    {
     "name": "stdin",
     "output_type": "stream",
     "text": [
      "Enter Marks: 83\n"
     ]
    },
    {
     "name": "stdout",
     "output_type": "stream",
     "text": [
      "A Grade\n"
     ]
    }
   ],
   "source": [
    "grd=int(input(\"Enter Marks:\"))\n",
    "if(grd>=90):\n",
    "    print(\"A+ Grade\")\n",
    "elif(grd>=80 and grd<90):\n",
    "    print(\"A Grade\")\n",
    "elif(grd>=70 and grd<80):\n",
    "    print(\"B Grade\")\n",
    "elif(grd>=60 and grd<70):\n",
    "    print(\"C Grade\")\n",
    "elif(grd>=50 and grd<60):\n",
    "    print(\"D Grade\")\n",
    "else:\n",
    "    print(\"Fail\")"
   ]
  },
  {
   "cell_type": "code",
   "execution_count": 24,
   "id": "2351861a-f8cd-427d-bdb5-710f355e619f",
   "metadata": {},
   "outputs": [
    {
     "name": "stdin",
     "output_type": "stream",
     "text": [
      "Enter Angle: 90\n"
     ]
    },
    {
     "name": "stdout",
     "output_type": "stream",
     "text": [
      "Right Angle\n"
     ]
    }
   ],
   "source": [
    "ang=int(input(\"Enter Angle:\"))\n",
    "if(ang==90):\n",
    "    print(\"Right Angle\")\n",
    "elif(ang<90):\n",
    "    print(\"Acute Angle\")\n",
    "elif(ang>90 and ang<180):\n",
    "    print(\"Obtuse Angle\")\n",
    "else:\n",
    "    print(\"Angle Invalid\")"
   ]
  },
  {
   "cell_type": "code",
   "execution_count": 25,
   "id": "86370782-0b89-4ed8-89d9-bfeb46cb661e",
   "metadata": {},
   "outputs": [
    {
     "name": "stdin",
     "output_type": "stream",
     "text": [
      "Enter BMI: 34\n"
     ]
    },
    {
     "name": "stdout",
     "output_type": "stream",
     "text": [
      "Obese\n"
     ]
    }
   ],
   "source": [
    "bmi=int(input(\"Enter BMI:\"))\n",
    "if(bmi<18.5):\n",
    "    print(\"Underweight\")\n",
    "elif(bmi>=18.5 and bmi<25):\n",
    "    print(\"Healthy Weight\")\n",
    "elif(bmi>=25 and bmi<30):\n",
    "    print(\"Overweight\")\n",
    "else:\n",
    "    print(\"Obese\")"
   ]
  },
  {
   "cell_type": "code",
   "execution_count": 26,
   "id": "39c0eae5-0efb-4a36-b280-47e3f0158363",
   "metadata": {},
   "outputs": [
    {
     "name": "stdin",
     "output_type": "stream",
     "text": [
      "Enter any Number: 7\n"
     ]
    },
    {
     "name": "stdout",
     "output_type": "stream",
     "text": [
      "Number is positive\n"
     ]
    }
   ],
   "source": [
    "a=int(input(\"Enter any Number:\"))\n",
    "if(a==0):\n",
    "    print(\"Number is zero\")\n",
    "elif(a>0):\n",
    "    print(\"Number is positive\")\n",
    "else:\n",
    "    print(\"Number is negative\")"
   ]
  },
  {
   "cell_type": "code",
   "execution_count": 29,
   "id": "10afd794-4b06-4a1d-901e-73d256a77992",
   "metadata": {},
   "outputs": [
    {
     "name": "stdin",
     "output_type": "stream",
     "text": [
      "Enter any Character: AAYUSH\n"
     ]
    },
    {
     "name": "stdout",
     "output_type": "stream",
     "text": [
      "Uppercase\n"
     ]
    }
   ],
   "source": [
    "ch = str(input(\"Enter any Character:\"))\n",
    "if ch.isalpha():\n",
    "    if ch == ch.lower():\n",
    "        print(\"Lowercase\")\n",
    "    elif ch == ch.upper():\n",
    "        print(\"Uppercase\")\n",
    "else:\n",
    "    print(\"Special characters or Character Undefined\")"
   ]
  },
  {
   "cell_type": "code",
   "execution_count": 3,
   "id": "00f8b96a-77ec-4461-b8b8-c6ea3044aac2",
   "metadata": {},
   "outputs": [
    {
     "name": "stdin",
     "output_type": "stream",
     "text": [
      "Enter Price: 500\n"
     ]
    },
    {
     "name": "stdout",
     "output_type": "stream",
     "text": [
      "Discounted Price after 30% of discount is 350.0\n"
     ]
    }
   ],
   "source": [
    "prc=int(input(\"Enter Price:\"))\n",
    "if(prc>=100 and prc<=300):\n",
    "    disc= prc*(20/100)\n",
    "    prc-=disc\n",
    "    print(\"Discounted Price after 20% of discount is\",prc)\n",
    "elif(prc>300 and prc<=600):\n",
    "    disc= prc*(30/100)\n",
    "    prc-=disc\n",
    "    print(\"Discounted Price after 30% of discount is\",prc)\n",
    "elif(prc>600 and prc<=1000):\n",
    "    disc= prc*(40/100)\n",
    "    prc-=disc\n",
    "    print(\"Discounted Price after 40% of discount is\",prc)\n",
    "elif(prc>1000):\n",
    "    disc= prc*(50/100)\n",
    "    prc-=disc\n",
    "    print(\"Discounted Price after 50% of discount is\",prc)\n",
    "else:\n",
    "    print(\"No dicount on items less than 100\")"
   ]
  },
  {
   "cell_type": "code",
   "execution_count": 5,
   "id": "ca42e5ff-dbc9-4fac-9450-442998082c86",
   "metadata": {},
   "outputs": [
    {
     "name": "stdin",
     "output_type": "stream",
     "text": [
      "Enter the electricity consumption in kilowatt-hours:  300\n"
     ]
    },
    {
     "name": "stdout",
     "output_type": "stream",
     "text": [
      "The electricity bill for 300.0 kWh is ₹200.00\n"
     ]
    }
   ],
   "source": [
    "consumption = float(input(\"Enter the electricity consumption in kilowatt-hours: \"))\n",
    "rate_slab1 = 0.50  \n",
    "rate_slab2 = 0.75\n",
    "rate_slab3 = 1.00\n",
    "slab1_limit = 100\n",
    "slab2_limit = 300\n",
    "if consumption <= slab1_limit:\n",
    "    bill = consumption * rate_slab1\n",
    "elif consumption <= slab2_limit:\n",
    "    bill = slab1_limit * rate_slab1 + (consumption - slab1_limit) * rate_slab2\n",
    "else:\n",
    "    bill = slab1_limit * rate_slab1 + (slab2_limit - slab1_limit) * rate_slab2 + (consumption - slab2_limit) * rate_slab3\n",
    "print(f\"The electricity bill for {consumption} kWh is ₹{bill:.2f}\")"
   ]
  },
  {
   "cell_type": "code",
   "execution_count": 6,
   "id": "397bb655-cb69-41a0-8b65-e240e060f785",
   "metadata": {},
   "outputs": [
    {
     "name": "stdin",
     "output_type": "stream",
     "text": [
      "Enter the first angle in degrees:  80\n",
      "Enter the second angle in degrees:  100\n",
      "Enter the third angle in degrees:  90\n",
      "Enter the fourth angle in degrees:  90\n",
      "Enter the length of side 1:  10\n",
      "Enter the length of side 2:  10\n",
      "Enter the length of side 3:  10\n",
      "Enter the length of side 4:  10\n"
     ]
    },
    {
     "name": "stdout",
     "output_type": "stream",
     "text": [
      "It is a rhombus.\n"
     ]
    }
   ],
   "source": [
    "angle1 = float(input(\"Enter the first angle in degrees: \"))\n",
    "angle2 = float(input(\"Enter the second angle in degrees: \"))\n",
    "angle3 = float(input(\"Enter the third angle in degrees: \"))\n",
    "angle4 = float(input(\"Enter the fourth angle in degrees: \"))\n",
    "\n",
    "side1 = float(input(\"Enter the length of side 1: \"))\n",
    "side2 = float(input(\"Enter the length of side 2: \"))\n",
    "side3 = float(input(\"Enter the length of side 3: \"))\n",
    "side4 = float(input(\"Enter the length of side 4: \"))\n",
    "\n",
    "if angle1 == angle2 == angle3 == angle4 == 90:\n",
    "    if side1 == side2 == side3 == side4:\n",
    "        print(\"It is a square.\")\n",
    "    else:\n",
    "        print(\"It is a rectangle.\")\n",
    "elif angle1 + angle2 + angle3 + angle4 == 360:\n",
    "    if side1 == side2 == side3 == side4:\n",
    "        print(\"It is a rhombus.\")\n",
    "    else:\n",
    "        print(\"It is a parallelogram.\")\n",
    "else:\n",
    "    print(\"It is a general quadrilateral.\")\n"
   ]
  },
  {
   "cell_type": "code",
   "execution_count": 10,
   "id": "b8d9f6db-b62c-4195-b1b9-af4e42319188",
   "metadata": {},
   "outputs": [
    {
     "name": "stdin",
     "output_type": "stream",
     "text": [
      "Enter Month Number: 5\n"
     ]
    },
    {
     "name": "stdout",
     "output_type": "stream",
     "text": [
      "Summer Season\n"
     ]
    }
   ],
   "source": [
    "mnth=int(input(\"Enter Month Number:\"))\n",
    "if(mnth>=2 and mnth<=3):\n",
    "    print(\"Spring Season\")\n",
    "elif(mnth>=4 and mnth<=6):\n",
    "    print(\"Summer Season\")\n",
    "elif(mnth>=7 and mnth<=8):\n",
    "    print(\"Rainy Season\")\n",
    "elif(mnth>=9 and mnth<=10):\n",
    "    print(\"Autumn Season\")\n",
    "elif(mnth>12):\n",
    "    print(\"Invalid Month Entered\")\n",
    "else:\n",
    "    print(\"Winter Season\")"
   ]
  },
  {
   "cell_type": "code",
   "execution_count": 13,
   "id": "e3b05dcc-3f42-431b-b17d-84f01057cec3",
   "metadata": {},
   "outputs": [
    {
     "name": "stdin",
     "output_type": "stream",
     "text": [
      "Enter a year:  2020\n",
      "Enter Month (1-12):  3\n"
     ]
    },
    {
     "name": "stdout",
     "output_type": "stream",
     "text": [
      "2020 is a leap year.\n",
      "The month has 31 days.\n"
     ]
    }
   ],
   "source": [
    "year = int(input(\"Enter a year: \"))\n",
    "month = int(input(\"Enter Month (1-12): \"))\n",
    "is_leap_year = (year % 4 == 0 and year % 100 != 0) or (year % 400 == 0)\n",
    "\n",
    "if is_leap_year:\n",
    "    print(year, \"is a leap year.\")\n",
    "else:\n",
    "    print(year, \"is not a leap year.\")\n",
    "if month == 2:\n",
    "    days_in_month = 29 if is_leap_year else 28\n",
    "elif month in [4, 6, 9, 11]:\n",
    "    days_in_month = 30\n",
    "elif month in [1, 3, 5, 7, 8, 10, 12]:\n",
    "    days_in_month = 31\n",
    "else:\n",
    "    print(\"Invalid month input\")\n",
    "    exit()\n",
    "print(f\"The month has {days_in_month} days.\")\n"
   ]
  },
  {
   "cell_type": "code",
   "execution_count": 15,
   "id": "1b6b00ed-7953-45d2-8c12-b0d2fa02198c",
   "metadata": {},
   "outputs": [
    {
     "name": "stdin",
     "output_type": "stream",
     "text": [
      "Enter any Number: 0\n"
     ]
    },
    {
     "name": "stdout",
     "output_type": "stream",
     "text": [
      "Number is zero\n"
     ]
    }
   ],
   "source": [
    "a=int(input(\"Enter any Number:\"))\n",
    "if(a==0):\n",
    "    print(\"Number is zero\")\n",
    "elif(a>0):\n",
    "    print(\"Number is positive\")\n",
    "else:\n",
    "    print(\"Number is negative\")"
   ]
  },
  {
   "cell_type": "code",
   "execution_count": 14,
   "id": "a9face04-cbf9-4406-bc9f-6236532afa36",
   "metadata": {},
   "outputs": [
    {
     "name": "stdin",
     "output_type": "stream",
     "text": [
      "Enter Age: 19\n"
     ]
    },
    {
     "name": "stdout",
     "output_type": "stream",
     "text": [
      "Eligible for Vote\n"
     ]
    }
   ],
   "source": [
    "x=int(input(\"Enter Age:\"))\n",
    "if(x>=18):\n",
    "    print(\"Eligible for Vote\")\n",
    "else:\n",
    "    print(\"Not Eligible for Vote\")"
   ]
  },
  {
   "cell_type": "code",
   "execution_count": 16,
   "id": "bed286f4-5b33-44ef-9e4c-b700f92d0bcb",
   "metadata": {},
   "outputs": [
    {
     "name": "stdout",
     "output_type": "stream",
     "text": [
      "a is greater\n"
     ]
    }
   ],
   "source": [
    "a=10\n",
    "b=4\n",
    "if(a>b):\n",
    "    print(\"a is greater\")\n",
    "else:\n",
    "    print(\"b is greater\")"
   ]
  },
  {
   "cell_type": "code",
   "execution_count": 18,
   "id": "e7b11d04-b3e8-4198-a48c-bf64d011d9a8",
   "metadata": {},
   "outputs": [
    {
     "name": "stdin",
     "output_type": "stream",
     "text": [
      "Enter Marks: 76\n"
     ]
    },
    {
     "name": "stdout",
     "output_type": "stream",
     "text": [
      "B Grade\n"
     ]
    }
   ],
   "source": [
    "grd=int(input(\"Enter Marks:\"))\n",
    "if(grd>=90):\n",
    "    print(\"A+ Grade\")\n",
    "elif(grd>=80 and grd<90):\n",
    "    print(\"A Grade\")\n",
    "elif(grd>=70 and grd<80):\n",
    "    print(\"B Grade\")\n",
    "elif(grd>=60 and grd<70):\n",
    "    print(\"C Grade\")\n",
    "elif(grd>=50 and grd<60):\n",
    "    print(\"D Grade\")\n",
    "else:\n",
    "    print(\"Fail\")"
   ]
  },
  {
   "cell_type": "code",
   "execution_count": 17,
   "id": "bca88e1a-517d-495f-abe1-0d14fd9e1239",
   "metadata": {},
   "outputs": [
    {
     "name": "stdin",
     "output_type": "stream",
     "text": [
      "Enter a year:  2016\n"
     ]
    },
    {
     "name": "stdout",
     "output_type": "stream",
     "text": [
      "2016 is a leap year.\n"
     ]
    }
   ],
   "source": [
    "year = int(input(\"Enter a year: \"))\n",
    "is_leap_year = (year % 4 == 0 and year % 100 != 0) or (year % 400 == 0)\n",
    "\n",
    "if is_leap_year:\n",
    "    print(year, \"is a leap year.\")\n",
    "else:\n",
    "    print(year, \"is not a leap year.\")"
   ]
  },
  {
   "cell_type": "code",
   "execution_count": 20,
   "id": "47ed694f-21da-4181-bff6-be0f74417084",
   "metadata": {},
   "outputs": [
    {
     "name": "stdout",
     "output_type": "stream",
     "text": [
      "Equilateral Triangle\n"
     ]
    }
   ],
   "source": [
    "a=10\n",
    "b=10\n",
    "c=10\n",
    "if(a==b and a==c):\n",
    "    print(\"Equilateral Triangle\")\n",
    "elif(a==b or b==c or a==c):\n",
    "    print(\"Isoceles Triangle\")\n",
    "else:\n",
    "    print(\"Scalene Triangle\")"
   ]
  },
  {
   "cell_type": "code",
   "execution_count": 21,
   "id": "dc03cb07-b5b0-46cf-9182-ef04323615ad",
   "metadata": {},
   "outputs": [
    {
     "name": "stdout",
     "output_type": "stream",
     "text": [
      "20 is greater\n"
     ]
    }
   ],
   "source": [
    "a=10\n",
    "b=20\n",
    "c=15\n",
    "if(a>b and a>c):\n",
    "    print(a,\"is greater\")\n",
    "elif(b>a and b>c):\n",
    "    print(b,\"is greater\")\n",
    "else:\n",
    "    print(c,\"is greater\")"
   ]
  },
  {
   "cell_type": "code",
   "execution_count": 23,
   "id": "dafd8ce8-1aa0-493c-beda-2917fb433cf5",
   "metadata": {},
   "outputs": [
    {
     "name": "stdin",
     "output_type": "stream",
     "text": [
      "Enter a Character: E\n"
     ]
    },
    {
     "name": "stdout",
     "output_type": "stream",
     "text": [
      "E is vowel\n"
     ]
    }
   ],
   "source": [
    "ch=str(input(\"Enter a Character:\"))\n",
    "if ch in \"aeiouAEIOU\":\n",
    "    print(ch,\"is vowel\")\n",
    "else:\n",
    "    print(ch,\"is consonant\")"
   ]
  },
  {
   "cell_type": "code",
   "execution_count": 25,
   "id": "d02ee6c3-a8f6-4598-86e7-f3f6f85ecf90",
   "metadata": {},
   "outputs": [
    {
     "name": "stdin",
     "output_type": "stream",
     "text": [
      "Enter the number of items in your shopping cart:  3\n",
      "Enter the price of item 1:  100\n",
      "Enter the price of item 2:  50\n",
      "Enter the price of item 3:  50\n"
     ]
    },
    {
     "name": "stdout",
     "output_type": "stream",
     "text": [
      "\n",
      "Total cost before discount: ₹200.00\n",
      "Discount applied: 10.0%\n",
      "Final cost after discount: ₹180.00\n"
     ]
    }
   ],
   "source": [
    "num_items = int(input(\"Enter the number of items in your shopping cart: \"))\n",
    "total_cost = 0.0\n",
    "discount = 0.0\n",
    "for i in range(num_items):\n",
    "    item_price = float(input(f\"Enter the price of item {i + 1}: \"))\n",
    "    total_cost += item_price\n",
    "if total_cost >= 100:\n",
    "    discount = 0.1  \n",
    "elif total_cost >= 50:\n",
    "    discount = 0.05  \n",
    "final_cost = total_cost - (total_cost * discount)\n",
    "print(f\"\\nTotal cost before discount: ₹{total_cost:.2f}\")\n",
    "print(f\"Discount applied: {discount * 100}%\")\n",
    "print(f\"Final cost after discount: ₹{final_cost:.2f}\")\n"
   ]
  },
  {
   "cell_type": "code",
   "execution_count": 26,
   "id": "19eb0daf-7c84-44b3-8758-a60418a2152d",
   "metadata": {},
   "outputs": [
    {
     "name": "stdin",
     "output_type": "stream",
     "text": [
      "Enter a number: 2\n"
     ]
    },
    {
     "name": "stdout",
     "output_type": "stream",
     "text": [
      "2 is even\n"
     ]
    }
   ],
   "source": [
    "x=int(input(\"Enter a number:\"))\n",
    "if(x%2==0):\n",
    "    print(x,\"is even\")\n",
    "else:\n",
    "    print(x,\"is odd\")"
   ]
  },
  {
   "cell_type": "code",
   "execution_count": 1,
   "id": "2224eaac-47e1-4ed4-afda-e9420a7c984b",
   "metadata": {},
   "outputs": [
    {
     "name": "stdin",
     "output_type": "stream",
     "text": [
      "Enter the coefficient a:  6\n",
      "Enter the coefficient b:  8\n",
      "Enter the coefficient c:  10\n"
     ]
    },
    {
     "name": "stdout",
     "output_type": "stream",
     "text": [
      "Root 1: (-0.6666666666666666+1.1055415967851332j)\n",
      "Root 2: (-0.6666666666666666-1.1055415967851332j)\n"
     ]
    }
   ],
   "source": [
    "import cmath \n",
    "a = float(input(\"Enter the coefficient a: \"))\n",
    "b = float(input(\"Enter the coefficient b: \"))\n",
    "c = float(input(\"Enter the coefficient c: \"))\n",
    "discriminant = b**2 - 4*a*c\n",
    "if discriminant >= 0:\n",
    "    root1 = (-b + cmath.sqrt(discriminant)) / (2*a)\n",
    "    root2 = (-b - cmath.sqrt(discriminant)) / (2*a)\n",
    "    print(\"Root 1:\", root1)\n",
    "    print(\"Root 2:\", root2)\n",
    "else:\n",
    "    real_part = -b / (2*a)\n",
    "    imaginary_part = cmath.sqrt(abs(discriminant)) / (2*a)\n",
    "    root1 = complex(real_part, imaginary_part)\n",
    "    root2 = complex(real_part, -imaginary_part)\n",
    "    print(\"Root 1:\", root1)\n",
    "    print(\"Root 2:\", root2)"
   ]
  },
  {
   "cell_type": "code",
   "execution_count": 2,
   "id": "e11ea05e-4cda-4a6d-b9a6-6c2988129b5e",
   "metadata": {},
   "outputs": [
    {
     "name": "stdin",
     "output_type": "stream",
     "text": [
      "Enter a day number: 6\n"
     ]
    },
    {
     "name": "stdout",
     "output_type": "stream",
     "text": [
      "Satday\n"
     ]
    }
   ],
   "source": [
    "day= int(input(\"Enter a day number:\"))\n",
    "if(day==1):\n",
    "    print(\"Monday\")\n",
    "elif(day==2):\n",
    "    print(\"Tuesday\")\n",
    "elif(day==3):\n",
    "    print(\"Wednesday\")\n",
    "elif(day==4):\n",
    "    print(\"Thursday\")\n",
    "elif(day==5):\n",
    "    print(\"Friday\")\n",
    "elif(day==6):\n",
    "    print(\"Satday\")\n",
    "elif(day==7):\n",
    "    print(\"Sunday\")\n",
    "else:\n",
    "    print(\"Invalid Day\")"
   ]
  },
  {
   "cell_type": "code",
   "execution_count": 3,
   "id": "f3477a63-9368-4f24-831c-8de6c810745b",
   "metadata": {},
   "outputs": [
    {
     "name": "stdin",
     "output_type": "stream",
     "text": [
      "Enter a number:  5\n"
     ]
    },
    {
     "name": "stdout",
     "output_type": "stream",
     "text": [
      "The factorial of 5 is 120\n"
     ]
    }
   ],
   "source": [
    "def factorial(n):\n",
    "    if n == 0 or n == 1:\n",
    "        return 1\n",
    "    else:\n",
    "        return n * factorial(n-1)\n",
    "num = int(input(\"Enter a number: \"))\n",
    "if num < 0:\n",
    "    print(\"Factorial is not defined for negative numbers.\")\n",
    "else:\n",
    "    result = factorial(num)\n",
    "    print(f\"The factorial of {num} is {result}\")"
   ]
  },
  {
   "cell_type": "code",
   "execution_count": 4,
   "id": "e9ba4840-1b96-4d3d-9cfa-372dc2aa4fa8",
   "metadata": {},
   "outputs": [
    {
     "name": "stdout",
     "output_type": "stream",
     "text": [
      "20 is greater\n"
     ]
    }
   ],
   "source": [
    "a=10\n",
    "b=20\n",
    "c=15\n",
    "if(a>b and a>c):\n",
    "    print(a,\"is greater\")\n",
    "elif(b>a and b>c):\n",
    "    print(b,\"is greater\")\n",
    "else:\n",
    "    print(c,\"is greater\")"
   ]
  },
  {
   "cell_type": "code",
   "execution_count": 7,
   "id": "01420cb3-964b-452c-9a90-24f99b235553",
   "metadata": {},
   "outputs": [
    {
     "name": "stdout",
     "output_type": "stream",
     "text": [
      "\n",
      "ATM Menu:\n",
      "1. Check Balance\n",
      "2. Deposit Money\n",
      "3. Withdraw Money\n",
      "4. Exit\n"
     ]
    },
    {
     "name": "stdin",
     "output_type": "stream",
     "text": [
      "Enter your choice (1-4):  1\n"
     ]
    },
    {
     "name": "stdout",
     "output_type": "stream",
     "text": [
      "Your balance is $0\n",
      "\n",
      "ATM Menu:\n",
      "1. Check Balance\n",
      "2. Deposit Money\n",
      "3. Withdraw Money\n",
      "4. Exit\n"
     ]
    },
    {
     "name": "stdin",
     "output_type": "stream",
     "text": [
      "Enter your choice (1-4):  2\n",
      "Enter the amount to deposit: $ 100000\n"
     ]
    },
    {
     "name": "stdout",
     "output_type": "stream",
     "text": [
      "Deposited $100000.0. Your new balance is $100000.0\n",
      "\n",
      "ATM Menu:\n",
      "1. Check Balance\n",
      "2. Deposit Money\n",
      "3. Withdraw Money\n",
      "4. Exit\n"
     ]
    },
    {
     "name": "stdin",
     "output_type": "stream",
     "text": [
      "Enter your choice (1-4):  3\n",
      "Enter the amount to withdraw: $ 500\n"
     ]
    },
    {
     "name": "stdout",
     "output_type": "stream",
     "text": [
      "Withdrew $500.0. Your new balance is $99500.0\n",
      "\n",
      "ATM Menu:\n",
      "1. Check Balance\n",
      "2. Deposit Money\n",
      "3. Withdraw Money\n",
      "4. Exit\n"
     ]
    },
    {
     "name": "stdin",
     "output_type": "stream",
     "text": [
      "Enter your choice (1-4):  4\n"
     ]
    },
    {
     "name": "stdout",
     "output_type": "stream",
     "text": [
      "Exiting the ATM. Thank you!\n"
     ]
    }
   ],
   "source": [
    "balance = 0\n",
    "\n",
    "while True:\n",
    "    print(\"\\nATM Menu:\")\n",
    "    print(\"1. Check Balance\")\n",
    "    print(\"2. Deposit Money\")\n",
    "    print(\"3. Withdraw Money\")\n",
    "    print(\"4. Exit\")\n",
    "    choice = input(\"Enter your choice (1-4): \")\n",
    "    if choice == '1':\n",
    "        print(f\"Your balance is ${balance}\")\n",
    "    elif choice == '2':\n",
    "        amount = float(input(\"Enter the amount to deposit: $\"))\n",
    "        balance += amount\n",
    "        print(f\"Deposited ${amount}. Your new balance is ${balance}\")\n",
    "    elif choice == '3':\n",
    "        amount = float(input(\"Enter the amount to withdraw: $\"))\n",
    "        if amount > balance:\n",
    "            print(\"Insufficient funds. Unable to complete the transaction.\")\n",
    "        else:\n",
    "            balance -= amount\n",
    "            print(f\"Withdrew ${amount}. Your new balance is ${balance}\")\n",
    "    elif choice == '4':\n",
    "        print(\"Exiting the ATM. Thank you!\")\n",
    "        break\n",
    "    else:\n",
    "        print(\"Invalid choice. Please enter a number between 1 and 4.\")"
   ]
  },
  {
   "cell_type": "code",
   "execution_count": 8,
   "id": "18d58047-82df-43cd-a074-096939b5410b",
   "metadata": {},
   "outputs": [
    {
     "name": "stdin",
     "output_type": "stream",
     "text": [
      "Enter a string: mom\n"
     ]
    },
    {
     "name": "stdout",
     "output_type": "stream",
     "text": [
      "mom is palindrome\n"
     ]
    }
   ],
   "source": [
    "str1=str(input(\"Enter a string:\"))\n",
    "if (str1==str1[::-1]):\n",
    "    print(str1,\"is palindrome\")\n",
    "else:\n",
    "    print(str1,\"is not palindrome\")"
   ]
  },
  {
   "cell_type": "code",
   "execution_count": 9,
   "id": "9082a86c-569b-4f1b-83cf-c17d122eb1a1",
   "metadata": {},
   "outputs": [
    {
     "name": "stdout",
     "output_type": "stream",
     "text": [
      "The average (excluding extremes) is: 11.666666666666666\n"
     ]
    }
   ],
   "source": [
    "numbers = [12, 5, 8, 20, 15]\n",
    "if len(numbers) < 3:\n",
    "    print(\"List should have at least three numbers.\")\n",
    "else:\n",
    "    numbers.sort()\n",
    "    excluded_numbers = numbers[1:-1]\n",
    "    average = sum(excluded_numbers) / len(excluded_numbers)\n",
    "    print(f\"The average (excluding extremes) is: {average}\")"
   ]
  },
  {
   "cell_type": "code",
   "execution_count": 10,
   "id": "663c9ec0-8d05-4196-b642-5d7d80305bc7",
   "metadata": {},
   "outputs": [
    {
     "name": "stdin",
     "output_type": "stream",
     "text": [
      "Enter temperature in Celsius:  45\n"
     ]
    },
    {
     "name": "stdout",
     "output_type": "stream",
     "text": [
      "45.0 degrees Celsius is equal to 113.0 degrees Fahrenheit.\n"
     ]
    }
   ],
   "source": [
    "celsius = float(input(\"Enter temperature in Celsius: \"))\n",
    "fahrenheit = (celsius * 9/5) + 32\n",
    "print(f\"{celsius} degrees Celsius is equal to {fahrenheit} degrees Fahrenheit.\")"
   ]
  },
  {
   "cell_type": "code",
   "execution_count": 11,
   "id": "bf78f6ab-a37a-4e97-be87-b71f347e9770",
   "metadata": {},
   "outputs": [
    {
     "name": "stdout",
     "output_type": "stream",
     "text": [
      "\n",
      "Calculator Menu:\n",
      "1. Addition\n",
      "2. Subtraction\n",
      "3. Multiplication\n",
      "4. Division\n",
      "5. Exit\n"
     ]
    },
    {
     "name": "stdin",
     "output_type": "stream",
     "text": [
      "Enter your choice (1-5):  1\n",
      "Enter the first number:  2\n",
      "Enter the second number:  34\n"
     ]
    },
    {
     "name": "stdout",
     "output_type": "stream",
     "text": [
      "The result of 2.0 + 34.0 is: 36.0\n",
      "\n",
      "Calculator Menu:\n",
      "1. Addition\n",
      "2. Subtraction\n",
      "3. Multiplication\n",
      "4. Division\n",
      "5. Exit\n"
     ]
    },
    {
     "name": "stdin",
     "output_type": "stream",
     "text": [
      "Enter your choice (1-5):  5\n"
     ]
    },
    {
     "name": "stdout",
     "output_type": "stream",
     "text": [
      "Exiting the calculator. Thank you!\n"
     ]
    }
   ],
   "source": [
    "while True:\n",
    "    print(\"\\nCalculator Menu:\")\n",
    "    print(\"1. Addition\")\n",
    "    print(\"2. Subtraction\")\n",
    "    print(\"3. Multiplication\")\n",
    "    print(\"4. Division\")\n",
    "    print(\"5. Exit\")\n",
    "\n",
    "    choice = input(\"Enter your choice (1-5): \")\n",
    "\n",
    "    if choice == '5':\n",
    "        print(\"Exiting the calculator. Thank you!\")\n",
    "        break\n",
    "\n",
    "    try:\n",
    "        num1 = float(input(\"Enter the first number: \"))\n",
    "        num2 = float(input(\"Enter the second number: \"))\n",
    "    except ValueError:\n",
    "        print(\"Invalid input. Please enter valid numbers.\")\n",
    "        continue\n",
    "\n",
    "    if choice == '1':\n",
    "        result = num1 + num2\n",
    "        print(f\"The result of {num1} + {num2} is: {result}\")\n",
    "    elif choice == '2':\n",
    "        result = num1 - num2\n",
    "        print(f\"The result of {num1} - {num2} is: {result}\")\n",
    "    elif choice == '3':\n",
    "        result = num1 * num2\n",
    "        print(f\"The result of {num1} * {num2} is: {result}\")\n",
    "    elif choice == '4':\n",
    "        if num2 != 0:\n",
    "            result = num1 / num2\n",
    "            print(f\"The result of {num1} / {num2} is: {result}\")\n",
    "        else:\n",
    "            print(\"Cannot divide by zero. Please enter a non-zero second number.\")\n",
    "    else:\n",
    "        print(\"Invalid choice. Please enter a number between 1 and 5.\")\n"
   ]
  },
  {
   "cell_type": "code",
   "execution_count": 5,
   "id": "818adfea-6216-484e-b0d7-1b900b0c9414",
   "metadata": {},
   "outputs": [
    {
     "name": "stdin",
     "output_type": "stream",
     "text": [
      "Enter the coefficient of x^3:  3\n",
      "Enter the coefficient of x^2:  6\n",
      "Enter the coefficient of x:  9\n",
      "Enter the constant term:  20\n"
     ]
    },
    {
     "name": "stdout",
     "output_type": "stream",
     "text": [
      "The roots of the cubic equation are: ((0.5234413392988778+1.509134733206719j), (-1.7401916364427543-2.0615163832938292j), (-0.7832497028561233+0.5523816500871103j))\n"
     ]
    }
   ],
   "source": [
    "import cmath\n",
    "\n",
    "def cubic_roots(a, b, c, d):\n",
    "    p = c / a - (b**2) / (3 * a**2)\n",
    "    q = 2 * (b**3) / (27 * a**3) - b * c / (3 * a**2) + d / a\n",
    "    delta = (q**2) / 4 + (p**3) / 27\n",
    "\n",
    "    if delta == 0:\n",
    "        root = -q / 2\n",
    "        x1 = x2 = x3 = root ** (1/3)\n",
    "    elif delta > 0:\n",
    "        sqrt_delta = cmath.sqrt(delta)\n",
    "\n",
    "        u = (-q / 2 + sqrt_delta) ** (1/3)\n",
    "        v = (-q / 2 - sqrt_delta) ** (1/3)\n",
    "\n",
    "        x1 = u + v\n",
    "        x2 = -(u + v) / 2 + (u - v) * cmath.sqrt(3) / 2\n",
    "        x3 = -(u + v) / 2 - (u - v) * cmath.sqrt(3) / 2\n",
    "    else:\n",
    "        r = cmath.sqrt(-(p**3) / 27)\n",
    "        theta = cmath.phase(-q / 2 + r)\n",
    "\n",
    "        x1 = 2 * abs(r) ** (1/3) * cmath.cos(theta / 3)\n",
    "        x2 = 2 * abs(r) ** (1/3) * cmath.cos((theta + 2 * cmath.pi) / 3)\n",
    "        x3 = 2 * abs(r) ** (1/3) * cmath.cos((theta + 4 * cmath.pi) / 3)\n",
    "\n",
    "    return x1 - b / (3 * a), x2 - b / (3 * a), x3 - b / (3 * a)\n",
    "\n",
    "a = float(input(\"Enter the coefficient of x^3: \"))\n",
    "b = float(input(\"Enter the coefficient of x^2: \"))\n",
    "c = float(input(\"Enter the coefficient of x: \"))\n",
    "d = float(input(\"Enter the constant term: \"))\n",
    "\n",
    "roots = cubic_roots(a, b, c, d)\n",
    "\n",
    "print(f\"The roots of the cubic equation are: {roots}\")\n"
   ]
  },
  {
   "cell_type": "code",
   "execution_count": 6,
   "id": "8d346c70-45b7-4d36-9f21-55610e4916c1",
   "metadata": {},
   "outputs": [
    {
     "name": "stdin",
     "output_type": "stream",
     "text": [
      "Enter your income: $ 10000\n"
     ]
    },
    {
     "name": "stdout",
     "output_type": "stream",
     "text": [
      "Your income tax is: $1000.00\n"
     ]
    }
   ],
   "source": [
    "brackets = [10000, 50000, 100000, float('inf')]\n",
    "rates = [0.1, 0.2, 0.3, 0.4]\n",
    "income_str = input(\"Enter your income: $\")\n",
    "if not income_str.replace('.', '').isdigit():\n",
    "    print(\"Invalid input. Please enter a valid numerical value for income.\")\n",
    "else:\n",
    "    income = float(income_str)\n",
    "\n",
    "    if income < 0:\n",
    "        print(\"Income cannot be negative.\")\n",
    "    else:\n",
    "        tax = 0\n",
    "        remaining_income = income\n",
    "\n",
    "        for i in range(len(brackets)):\n",
    "            if remaining_income <= 0:\n",
    "                break\n",
    "            if remaining_income <= brackets[i]:\n",
    "                tax += remaining_income * rates[i]\n",
    "                break\n",
    "            else:\n",
    "                tax += brackets[i] * rates[i]\n",
    "                remaining_income -= brackets[i]\n",
    "        print(f\"Your income tax is: ${tax:.2f}\")\n"
   ]
  },
  {
   "cell_type": "code",
   "execution_count": 7,
   "id": "50f71fa7-807f-4134-90d6-756ad3fbc5e9",
   "metadata": {},
   "outputs": [
    {
     "name": "stdin",
     "output_type": "stream",
     "text": [
      "Enter your choice (rock, paper, or scissors):  rock\n"
     ]
    },
    {
     "name": "stdout",
     "output_type": "stream",
     "text": [
      "You chose: rock\n",
      "Computer chose: rock\n",
      "It's a tie!\n"
     ]
    }
   ],
   "source": [
    "import random\n",
    "\n",
    "choices = ['rock', 'paper', 'scissors']\n",
    "while True:\n",
    "    user_choice = input(\"Enter your choice (rock, paper, or scissors): \").lower()\n",
    "    if user_choice in choices:\n",
    "        break\n",
    "    else:\n",
    "        print(\"Invalid choice. Please enter rock, paper, or scissors.\")\n",
    "computer_choice = random.choice(choices)\n",
    "print(f\"You chose: {user_choice}\")\n",
    "print(f\"Computer chose: {computer_choice}\")\n",
    "if user_choice == computer_choice:\n",
    "    print(\"It's a tie!\")\n",
    "elif (user_choice == 'rock' and computer_choice == 'scissors') or \\\n",
    "     (user_choice == 'paper' and computer_choice == 'rock') or \\\n",
    "     (user_choice == 'scissors' and computer_choice == 'paper'):\n",
    "    print(\"You win!\")\n",
    "else:\n",
    "    print(\"Computer wins!\")\n"
   ]
  },
  {
   "cell_type": "code",
   "execution_count": 8,
   "id": "d03adfcd-c92b-49d8-b49b-e49e51c8526c",
   "metadata": {},
   "outputs": [
    {
     "name": "stdin",
     "output_type": "stream",
     "text": [
      "Enter the length of the password:  8\n",
      "Enter the complexity level (low, medium, high):  high\n"
     ]
    },
    {
     "name": "stdout",
     "output_type": "stream",
     "text": [
      "Generated Password: +X36ut{+\n"
     ]
    }
   ],
   "source": [
    "import random\n",
    "import string\n",
    "length = int(input(\"Enter the length of the password: \"))\n",
    "complexity = input(\"Enter the complexity level (low, medium, high): \").lower()\n",
    "lower_case = string.ascii_lowercase\n",
    "upper_case = string.ascii_uppercase\n",
    "digits = string.digits\n",
    "special_characters = string.punctuation\n",
    "if complexity == \"low\":\n",
    "    characters = lower_case\n",
    "elif complexity == \"medium\":\n",
    "    characters = lower_case + digits\n",
    "elif complexity == \"high\":\n",
    "    characters = lower_case + upper_case + digits + special_characters\n",
    "else:\n",
    "    print(\"Invalid complexity level. Using default (low) complexity.\")\n",
    "    characters = lower_case\n",
    "password = ''.join(random.choice(characters) for _ in range(length))\n",
    "print(f\"Generated Password: {password}\")"
   ]
  },
  {
   "cell_type": "code",
   "execution_count": 9,
   "id": "ac81b039-38ee-400d-b213-716f2ed2f091",
   "metadata": {},
   "outputs": [
    {
     "name": "stdout",
     "output_type": "stream",
     "text": [
      "Welcome to the Text Adventure Game!\n",
      "You find yourself standing in front of a mysterious cave entrance.\n",
      "You have two paths in front of you: 'left' or 'right'.\n"
     ]
    },
    {
     "name": "stdin",
     "output_type": "stream",
     "text": [
      "Which path do you choose? (left/right):  right\n"
     ]
    },
    {
     "name": "stdout",
     "output_type": "stream",
     "text": [
      "You take the path to the right and find yourself in a lush forest.\n",
      "You come across a friendly group of elves.\n"
     ]
    },
    {
     "name": "stdin",
     "output_type": "stream",
     "text": [
      "Do you 'join' the elves or 'ignore' them?  ignore\n"
     ]
    },
    {
     "name": "stdout",
     "output_type": "stream",
     "text": [
      "You decide to continue your journey without interacting with the elves.\n",
      "As you walk further, you discover a hidden treasure. You are rewarded!\n"
     ]
    }
   ],
   "source": [
    "import time\n",
    "\n",
    "print(\"Welcome to the Text Adventure Game!\")\n",
    "print(\"You find yourself standing in front of a mysterious cave entrance.\")\n",
    "print(\"You have two paths in front of you: 'left' or 'right'.\")\n",
    "choice_path = input(\"Which path do you choose? (left/right): \").lower()\n",
    "if choice_path == \"left\":\n",
    "    print(\"You venture into the dark cave.\")\n",
    "    time.sleep(2)  \n",
    "    print(\"You encounter a treasure chest! What do you do?\")\n",
    "    choice_treasure = input(\"Do you 'open' the chest or 'leave' it alone? \").lower()\n",
    "    if choice_treasure == \"open\":\n",
    "        print(\"Congratulations! You found a pile of gold. You are rich!\")\n",
    "    elif choice_treasure == \"leave\":\n",
    "        print(\"You decide not to open the chest and continue exploring the cave.\")\n",
    "        print(\"Unfortunately, you find yourself at a dead end. Game over!\")\n",
    "    else:\n",
    "        print(\"Invalid choice. The chest sits there, waiting for your decision.\")\n",
    "\n",
    "elif choice_path == \"right\":\n",
    "    print(\"You take the path to the right and find yourself in a lush forest.\")\n",
    "    time.sleep(2)  \n",
    "    print(\"You come across a friendly group of elves.\")\n",
    "    choice_elves = input(\"Do you 'join' the elves or 'ignore' them? \").lower()\n",
    "    if choice_elves == \"join\":\n",
    "        print(\"The elves welcome you warmly. You spend a joyful time with them.\")\n",
    "    elif choice_elves == \"ignore\":\n",
    "        print(\"You decide to continue your journey without interacting with the elves.\")\n",
    "        print(\"As you walk further, you discover a hidden treasure. You are rewarded!\")\n",
    "    else:\n",
    "        print(\"Invalid choice. The elves look at you curiously, unsure of your decision.\")\n",
    "\n",
    "else:\n",
    "    print(\"Invalid choice. You hesitate and find yourself stuck at the entrance. Game over!\")\n"
   ]
  },
  {
   "cell_type": "code",
   "execution_count": 10,
   "id": "6b0d9b61-b19e-40ca-ad4a-22b33fb9f835",
   "metadata": {},
   "outputs": [
    {
     "name": "stdout",
     "output_type": "stream",
     "text": [
      "Linear Equation Solver: ax + b = 0\n"
     ]
    },
    {
     "name": "stdin",
     "output_type": "stream",
     "text": [
      "Enter the coefficient 'a':  3\n",
      "Enter the coefficient 'b':  6\n"
     ]
    },
    {
     "name": "stdout",
     "output_type": "stream",
     "text": [
      "The solution for x is: -2.0\n"
     ]
    }
   ],
   "source": [
    "print(\"Linear Equation Solver: ax + b = 0\")\n",
    "a = float(input(\"Enter the coefficient 'a': \"))\n",
    "b = float(input(\"Enter the coefficient 'b': \"))\n",
    "if a == 0:\n",
    "    if b == 0:\n",
    "        print(\"Infinite solutions. The equation is identity.\")\n",
    "    else:\n",
    "        print(\"No solution. The equation is inconsistent.\")\n",
    "else:\n",
    "    x = -b / a\n",
    "    print(f\"The solution for x is: {x}\")\n"
   ]
  },
  {
   "cell_type": "code",
   "execution_count": 11,
   "id": "8f43bb74-bffa-4662-9e85-5cfc12bd7fd1",
   "metadata": {},
   "outputs": [
    {
     "name": "stdout",
     "output_type": "stream",
     "text": [
      "Welcome to the Basic Quiz Game!\n",
      "\n",
      "Question 1: What is the capital of France?\n",
      "A. London\n",
      "B. Paris\n",
      "C. Berlin\n"
     ]
    },
    {
     "name": "stdin",
     "output_type": "stream",
     "text": [
      "Enter the letter corresponding to your answer:  b\n"
     ]
    },
    {
     "name": "stdout",
     "output_type": "stream",
     "text": [
      "Correct!\n",
      "\n",
      "Question 2: Which planet is known as the Red Planet?\n",
      "A. Venus\n",
      "B. Mars\n",
      "C. Jupiter\n"
     ]
    },
    {
     "name": "stdin",
     "output_type": "stream",
     "text": [
      "Enter the letter corresponding to your answer:  b\n"
     ]
    },
    {
     "name": "stdout",
     "output_type": "stream",
     "text": [
      "Correct!\n",
      "\n",
      "Question 3: What is the largest mammal on Earth?\n",
      "A. Elephant\n",
      "B. Blue Whale\n",
      "C. Giraffe\n"
     ]
    },
    {
     "name": "stdin",
     "output_type": "stream",
     "text": [
      "Enter the letter corresponding to your answer:  b\n"
     ]
    },
    {
     "name": "stdout",
     "output_type": "stream",
     "text": [
      "Correct!\n",
      "\n",
      "Your final score is: 3/3\n"
     ]
    }
   ],
   "source": [
    "print(\"Welcome to the Basic Quiz Game!\")\n",
    "questions = [\n",
    "    {\"question\": \"What is the capital of France?\", \"options\": [\"A. London\", \"B. Paris\", \"C. Berlin\"], \"correct_option\": \"B\"},\n",
    "    {\"question\": \"Which planet is known as the Red Planet?\", \"options\": [\"A. Venus\", \"B. Mars\", \"C. Jupiter\"], \"correct_option\": \"B\"},\n",
    "    {\"question\": \"What is the largest mammal on Earth?\", \"options\": [\"A. Elephant\", \"B. Blue Whale\", \"C. Giraffe\"], \"correct_option\": \"B\"}\n",
    "]\n",
    "score = 0\n",
    "\n",
    "for i, question_data in enumerate(questions, 1):\n",
    "    print(f\"\\nQuestion {i}: {question_data['question']}\")\n",
    "    for option in question_data['options']:\n",
    "        print(option)\n",
    "    user_answer = input(\"Enter the letter corresponding to your answer: \").upper()\n",
    "\n",
    "    if user_answer == question_data['correct_option']:\n",
    "        print(\"Correct!\")\n",
    "        score += 1\n",
    "    else:\n",
    "        print(f\"Wrong! The correct answer is {question_data['correct_option']}.\")\n",
    "\n",
    "print(f\"\\nYour final score is: {score}/{len(questions)}\")\n"
   ]
  },
  {
   "cell_type": "code",
   "execution_count": 12,
   "id": "bb3ff19d-2a11-4a95-bc99-944d9642d981",
   "metadata": {},
   "outputs": [
    {
     "name": "stdin",
     "output_type": "stream",
     "text": [
      "Enter a year to check if it's prime:  2017\n"
     ]
    },
    {
     "name": "stdout",
     "output_type": "stream",
     "text": [
      "2017 is a prime year.\n"
     ]
    }
   ],
   "source": [
    "year = int(input(\"Enter a year to check if it's prime: \"))\n",
    "if year > 1:\n",
    "    for i in range(2, int(year**0.5) + 1):\n",
    "        if year % i == 0:\n",
    "            print(f\"{year} is not a prime year.\")\n",
    "            break\n",
    "    else:\n",
    "        print(f\"{year} is a prime year.\")\n",
    "else:\n",
    "    print(f\"{year} is not a prime year.\")\n"
   ]
  },
  {
   "cell_type": "code",
   "execution_count": 14,
   "id": "8e72459a-d234-4bf1-8dd4-abc796f0680a",
   "metadata": {},
   "outputs": [
    {
     "name": "stdin",
     "output_type": "stream",
     "text": [
      "Enter the first number:  7\n",
      "Enter the second number:  8\n",
      "Enter the third number:  5\n"
     ]
    },
    {
     "name": "stdout",
     "output_type": "stream",
     "text": [
      "The numbers in ascending order are: 5.0, 7.0, 8.0\n"
     ]
    }
   ],
   "source": [
    "num1 = float(input(\"Enter the first number: \"))\n",
    "num2 = float(input(\"Enter the second number: \"))\n",
    "num3 = float(input(\"Enter the third number: \"))\n",
    "if num1 <= num2 and num1 <= num3:\n",
    "    smallest = num1\n",
    "    if num2 <= num3:\n",
    "        middle = num2\n",
    "        largest = num3\n",
    "    else:\n",
    "        middle = num3\n",
    "        largest = num2\n",
    "elif num2 <= num1 and num2 <= num3:\n",
    "    smallest = num2\n",
    "    if num1 <= num3:\n",
    "        middle = num1\n",
    "        largest = num3\n",
    "    else:\n",
    "        middle = num3\n",
    "        largest = num1\n",
    "else:\n",
    "    smallest = num3\n",
    "    if num1 <= num2:\n",
    "        middle = num1\n",
    "        largest = num2\n",
    "    else:\n",
    "        middle = num2\n",
    "        largest = num1\n",
    "print(f\"The numbers in ascending order are: {smallest}, {middle}, {largest}\")"
   ]
  },
  {
   "cell_type": "code",
   "execution_count": 15,
   "id": "d0a178a3-32fb-4686-858b-73710530f1ee",
   "metadata": {},
   "outputs": [
    {
     "name": "stdout",
     "output_type": "stream",
     "text": [
      "Enter coefficients for the quartic equation ax^4 + bx^3 + cx^2 + dx + e = 0:\n"
     ]
    },
    {
     "name": "stdin",
     "output_type": "stream",
     "text": [
      "a:  4\n",
      "b:  7\n",
      "c:  8\n",
      "d:  5\n",
      "e:  6\n",
      "Enter an initial guess for the root:  2\n"
     ]
    },
    {
     "name": "stdout",
     "output_type": "stream",
     "text": [
      "Warning: Newton-Raphson method did not converge within the specified iterations.\n"
     ]
    }
   ],
   "source": [
    "# Get user input for quartic coefficients\n",
    "print(\"Enter coefficients for the quartic equation ax^4 + bx^3 + cx^2 + dx + e = 0:\")\n",
    "a = float(input(\"a: \"))\n",
    "b = float(input(\"b: \"))\n",
    "c = float(input(\"c: \"))\n",
    "d = float(input(\"d: \"))\n",
    "e = float(input(\"e: \"))\n",
    "\n",
    "# Get user input for the initial guess\n",
    "initial_guess = float(input(\"Enter an initial guess for the root: \"))\n",
    "\n",
    "# Initialize variables\n",
    "max_iterations = 1000\n",
    "tolerance = 1e-6\n",
    "x = initial_guess\n",
    "\n",
    "# Perform Newton-Raphson iteration\n",
    "for _ in range(max_iterations):\n",
    "    f_x = a * x**4 + b * x**3 + c * x**2 + d * x + e\n",
    "    f_prime_x = 4 * a * x**3 + 3 * b * x**2 + 2 * c * x + d\n",
    "\n",
    "    if abs(f_x) < tolerance:\n",
    "        print(f\"A root of the quartic equation is approximately: {x:.6f}\")\n",
    "        break\n",
    "\n",
    "    x = x - f_x / f_prime_x\n",
    "else:\n",
    "    print(\"Warning: Newton-Raphson method did not converge within the specified iterations.\")\n"
   ]
  },
  {
   "cell_type": "code",
   "execution_count": 16,
   "id": "b89f2736-9369-4d86-8ad5-ebff24ba06cb",
   "metadata": {},
   "outputs": [
    {
     "name": "stdin",
     "output_type": "stream",
     "text": [
      "Enter your weight in kilograms:  71\n",
      "Enter your height in meters:  1.8\n"
     ]
    },
    {
     "name": "stdout",
     "output_type": "stream",
     "text": [
      "Your BMI is: 21.91\n",
      "Your weight is within the normal range. Keep up the good work!\n"
     ]
    }
   ],
   "source": [
    "weight_kg = float(input(\"Enter your weight in kilograms: \"))\n",
    "height_m = float(input(\"Enter your height in meters: \"))\n",
    "bmi = weight_kg / (height_m ** 2)\n",
    "print(f\"Your BMI is: {bmi:.2f}\")\n",
    "if bmi < 18.5:\n",
    "    print(\"You are underweight. It's recommended to gain some weight.\")\n",
    "elif 18.5 <= bmi < 24.9:\n",
    "    print(\"Your weight is within the normal range. Keep up the good work!\")\n",
    "elif 25 <= bmi < 29.9:\n",
    "    print(\"You are overweight. Consider maintaining a healthy diet and exercise routine.\")\n",
    "else:\n",
    "    print(\"You are obese. It's recommended to consult with a healthcare professional for guidance.\")"
   ]
  },
  {
   "cell_type": "code",
   "execution_count": 17,
   "id": "f4aebaba-f987-4ef3-a376-bddd17b8c896",
   "metadata": {},
   "outputs": [
    {
     "name": "stdin",
     "output_type": "stream",
     "text": [
      "Enter the length of the password:  9\n",
      "Enter the complexity level (low, medium, high):  high\n"
     ]
    },
    {
     "name": "stdout",
     "output_type": "stream",
     "text": [
      "Generated Password: dqj*hG-gQ\n"
     ]
    }
   ],
   "source": [
    "import random\n",
    "import string\n",
    "length = int(input(\"Enter the length of the password: \"))\n",
    "complexity = input(\"Enter the complexity level (low, medium, high): \").lower()\n",
    "lower_case = string.ascii_lowercase\n",
    "upper_case = string.ascii_uppercase\n",
    "digits = string.digits\n",
    "special_characters = string.punctuation\n",
    "if complexity == \"low\":\n",
    "    characters = lower_case\n",
    "elif complexity == \"medium\":\n",
    "    characters = lower_case + digits\n",
    "elif complexity == \"high\":\n",
    "    characters = lower_case + upper_case + digits + special_characters\n",
    "else:\n",
    "    print(\"Invalid complexity level. Using default (low) complexity.\")\n",
    "    characters = lower_case\n",
    "password = ''.join(random.choice(characters) for _ in range(length))\n",
    "print(f\"Generated Password: {password}\")"
   ]
  },
  {
   "cell_type": "code",
   "execution_count": 19,
   "id": "7920c3fe-d8f5-4b21-838c-1ff47e8369c6",
   "metadata": {},
   "outputs": [
    {
     "name": "stdin",
     "output_type": "stream",
     "text": [
      "Enter the number of rows for the matrices:  2\n",
      "Enter the number of columns for the matrices:  2\n"
     ]
    },
    {
     "name": "stdout",
     "output_type": "stream",
     "text": [
      "\n",
      "Enter elements for the first matrix:\n"
     ]
    },
    {
     "name": "stdin",
     "output_type": "stream",
     "text": [
      "Enter element at position (1, 1):  1\n",
      "Enter element at position (1, 2):  2\n",
      "Enter element at position (2, 1):  3\n",
      "Enter element at position (2, 2):  4\n"
     ]
    },
    {
     "name": "stdout",
     "output_type": "stream",
     "text": [
      "\n",
      "Enter elements for the second matrix:\n"
     ]
    },
    {
     "name": "stdin",
     "output_type": "stream",
     "text": [
      "Enter element at position (1, 1):  5\n",
      "Enter element at position (1, 2):  6\n",
      "Enter element at position (2, 1):  7\n",
      "Enter element at position (2, 2):  8\n"
     ]
    },
    {
     "name": "stdout",
     "output_type": "stream",
     "text": [
      "\n",
      "Matrix Addition:\n",
      "[6.0, 8.0]\n",
      "[10.0, 12.0]\n",
      "\n",
      "Matrix Subtraction:\n",
      "[-4.0, -4.0]\n",
      "[-4.0, -4.0]\n"
     ]
    }
   ],
   "source": [
    "rows = int(input(\"Enter the number of rows for the matrices: \"))\n",
    "cols = int(input(\"Enter the number of columns for the matrices: \"))\n",
    "\n",
    "matrix1 = []\n",
    "matrix2 = []\n",
    "\n",
    "print(\"\\nEnter elements for the first matrix:\")\n",
    "for i in range(rows):\n",
    "    row = []\n",
    "    for j in range(cols):\n",
    "        element = float(input(f\"Enter element at position ({i + 1}, {j + 1}): \"))\n",
    "        row.append(element)\n",
    "    matrix1.append(row)\n",
    "print(\"\\nEnter elements for the second matrix:\")\n",
    "for i in range(rows):\n",
    "    row = []\n",
    "    for j in range(cols):\n",
    "        element = float(input(f\"Enter element at position ({i + 1}, {j + 1}): \"))\n",
    "        row.append(element)\n",
    "    matrix2.append(row)\n",
    "print(\"\\nMatrix Addition:\")\n",
    "result_addition = [[matrix1[i][j] + matrix2[i][j] for j in range(cols)] for i in range(rows)]\n",
    "for row in result_addition:\n",
    "    print(row)\n",
    "    \n",
    "print(\"\\nMatrix Subtraction:\")\n",
    "result_subtraction = [[matrix1[i][j] - matrix2[i][j] for j in range(cols)] for i in range(rows)]\n",
    "for row in result_subtraction:\n",
    "    print(row)\n"
   ]
  },
  {
   "cell_type": "code",
   "execution_count": 20,
   "id": "3fd3c789-a426-4751-a50d-6d29eaaabac6",
   "metadata": {},
   "outputs": [
    {
     "name": "stdin",
     "output_type": "stream",
     "text": [
      "Enter the first number:  80\n",
      "Enter the second number:  72\n"
     ]
    },
    {
     "name": "stdout",
     "output_type": "stream",
     "text": [
      "The greatest common divisor (GCD) is: 8\n"
     ]
    }
   ],
   "source": [
    "num1 = int(input(\"Enter the first number: \"))\n",
    "num2 = int(input(\"Enter the second number: \"))\n",
    "while num2 != 0:\n",
    "    temp = num2\n",
    "    num2 = num1 % num2\n",
    "    num1 = temp\n",
    "print(f\"The greatest common divisor (GCD) is: {abs(num1)}\")\n"
   ]
  },
  {
   "cell_type": "code",
   "execution_count": 21,
   "id": "8e5f447d-0451-4c41-a7d8-1e9e68dc83ca",
   "metadata": {},
   "outputs": [
    {
     "name": "stdin",
     "output_type": "stream",
     "text": [
      "Enter the number of rows for the first matrix:  2\n",
      "Enter the number of columns for the first matrix:  2\n",
      "Enter the number of rows for the second matrix:  2\n",
      "Enter the number of columns for the second matrix:  2\n"
     ]
    },
    {
     "name": "stdout",
     "output_type": "stream",
     "text": [
      "\n",
      "Enter elements for the first matrix:\n"
     ]
    },
    {
     "name": "stdin",
     "output_type": "stream",
     "text": [
      "Enter element at position (1, 1):  1\n",
      "Enter element at position (1, 2):  21\n",
      "Enter element at position (2, 1):  3\n",
      "Enter element at position (2, 2):  4\n"
     ]
    },
    {
     "name": "stdout",
     "output_type": "stream",
     "text": [
      "\n",
      "Enter elements for the second matrix:\n"
     ]
    },
    {
     "name": "stdin",
     "output_type": "stream",
     "text": [
      "Enter element at position (1, 1):  2\n",
      "Enter element at position (1, 2):  3\n",
      "Enter element at position (2, 1):  4\n",
      "Enter element at position (2, 2):  5\n"
     ]
    },
    {
     "name": "stdout",
     "output_type": "stream",
     "text": [
      "\n",
      "Matrix Multiplication Result:\n",
      "[86.0, 108.0]\n",
      "[22.0, 29.0]\n"
     ]
    }
   ],
   "source": [
    "# Get user input for matrix dimensions\n",
    "rows_a = int(input(\"Enter the number of rows for the first matrix: \"))\n",
    "cols_a = int(input(\"Enter the number of columns for the first matrix: \"))\n",
    "rows_b = int(input(\"Enter the number of rows for the second matrix: \"))\n",
    "cols_b = int(input(\"Enter the number of columns for the second matrix: \"))\n",
    "\n",
    "# Check if matrix multiplication is possible\n",
    "if cols_a != rows_b:\n",
    "    print(\"Matrix multiplication is not possible. Number of columns in the first matrix should be equal to the number of rows in the second matrix.\")\n",
    "else:\n",
    "    # Initialize matrices\n",
    "    matrix_a = []\n",
    "    matrix_b = []\n",
    "\n",
    "    # Get user input for the first matrix\n",
    "    print(\"\\nEnter elements for the first matrix:\")\n",
    "    for i in range(rows_a):\n",
    "        row = []\n",
    "        for j in range(cols_a):\n",
    "            element = float(input(f\"Enter element at position ({i + 1}, {j + 1}): \"))\n",
    "            row.append(element)\n",
    "        matrix_a.append(row)\n",
    "\n",
    "    # Get user input for the second matrix\n",
    "    print(\"\\nEnter elements for the second matrix:\")\n",
    "    for i in range(rows_b):\n",
    "        row = []\n",
    "        for j in range(cols_b):\n",
    "            element = float(input(f\"Enter element at position ({i + 1}, {j + 1}): \"))\n",
    "            row.append(element)\n",
    "        matrix_b.append(row)\n",
    "\n",
    "    # Initialize the result matrix with zeros\n",
    "    result_matrix = [[0 for _ in range(cols_b)] for _ in range(rows_a)]\n",
    "\n",
    "    # Perform matrix multiplication\n",
    "    for i in range(rows_a):\n",
    "        for j in range(cols_b):\n",
    "            for k in range(cols_a):\n",
    "                result_matrix[i][j] += matrix_a[i][k] * matrix_b[k][j]\n",
    "\n",
    "    # Display the result matrix\n",
    "    print(\"\\nMatrix Multiplication Result:\")\n",
    "    for row in result_matrix:\n",
    "        print(row)\n"
   ]
  },
  {
   "cell_type": "code",
   "execution_count": 22,
   "id": "e154e63f-7b9c-4db0-9712-b08d1aa1a02c",
   "metadata": {},
   "outputs": [
    {
     "name": "stdout",
     "output_type": "stream",
     "text": [
      "Welcome to Tic-Tac-Toe!\n",
      "  |   |  \n",
      "---------\n",
      "  |   |  \n",
      "---------\n",
      "  |   |  \n",
      "---------\n"
     ]
    },
    {
     "name": "stdin",
     "output_type": "stream",
     "text": [
      "Enter the row (1, 2, or 3):  1\n",
      "Enter the column (1, 2, or 3):  1\n"
     ]
    },
    {
     "name": "stdout",
     "output_type": "stream",
     "text": [
      "X |   |  \n",
      "---------\n",
      "  |   |  \n",
      "---------\n",
      "  |   |  \n",
      "---------\n",
      "Computer's turn:\n",
      "X |   |  \n",
      "---------\n",
      "  | O |  \n",
      "---------\n",
      "  |   |  \n",
      "---------\n"
     ]
    },
    {
     "name": "stdin",
     "output_type": "stream",
     "text": [
      "Enter the row (1, 2, or 3):  1\n",
      "Enter the column (1, 2, or 3):  3\n"
     ]
    },
    {
     "name": "stdout",
     "output_type": "stream",
     "text": [
      "X |   | X\n",
      "---------\n",
      "  | O |  \n",
      "---------\n",
      "  |   |  \n",
      "---------\n",
      "Computer's turn:\n",
      "X | O | X\n",
      "---------\n",
      "  | O |  \n",
      "---------\n",
      "  |   |  \n",
      "---------\n"
     ]
    },
    {
     "name": "stdin",
     "output_type": "stream",
     "text": [
      "Enter the row (1, 2, or 3):  3\n",
      "Enter the column (1, 2, or 3):  2\n"
     ]
    },
    {
     "name": "stdout",
     "output_type": "stream",
     "text": [
      "X | O | X\n",
      "---------\n",
      "  | O |  \n",
      "---------\n",
      "  | X |  \n",
      "---------\n",
      "Computer's turn:\n",
      "X | O | X\n",
      "---------\n",
      "O | O |  \n",
      "---------\n",
      "  | X |  \n",
      "---------\n"
     ]
    },
    {
     "name": "stdin",
     "output_type": "stream",
     "text": [
      "Enter the row (1, 2, or 3):  2\n",
      "Enter the column (1, 2, or 3):  3\n"
     ]
    },
    {
     "name": "stdout",
     "output_type": "stream",
     "text": [
      "X | O | X\n",
      "---------\n",
      "O | O | X\n",
      "---------\n",
      "  | X |  \n",
      "---------\n",
      "Computer's turn:\n",
      "X | O | X\n",
      "---------\n",
      "O | O | X\n",
      "---------\n",
      "  | X | O\n",
      "---------\n"
     ]
    },
    {
     "name": "stdin",
     "output_type": "stream",
     "text": [
      "Enter the row (1, 2, or 3):  3\n",
      "Enter the column (1, 2, or 3):  1\n"
     ]
    },
    {
     "name": "stdout",
     "output_type": "stream",
     "text": [
      "X | O | X\n",
      "---------\n",
      "O | O | X\n",
      "---------\n",
      "X | X | O\n",
      "---------\n",
      "It's a tie!\n"
     ]
    }
   ],
   "source": [
    "import random\n",
    "\n",
    "def print_board(board):\n",
    "    for row in board:\n",
    "        print(\" | \".join(row))\n",
    "        print(\"-\" * 9)\n",
    "\n",
    "def check_winner(board, player):\n",
    "    for i in range(3):\n",
    "        if all(cell == player for cell in board[i]) or all(board[j][i] == player for j in range(3)):\n",
    "            return True\n",
    "    if all(board[i][i] == player for i in range(3)) or all(board[i][2 - i] == player for i in range(3)):\n",
    "        return True\n",
    "    return False\n",
    "\n",
    "def is_board_full(board):\n",
    "    return all(all(cell != \" \" for cell in row) for row in board)\n",
    "\n",
    "def get_empty_cells(board):\n",
    "    return [(i, j) for i in range(3) for j in range(3) if board[i][j] == \" \"]\n",
    "\n",
    "def make_computer_move(board):\n",
    "    empty_cells = get_empty_cells(board)\n",
    "    return random.choice(empty_cells)\n",
    "\n",
    "def main():\n",
    "    board = [[\" \" for _ in range(3)] for _ in range(3)]\n",
    "    player_symbol = \"X\"\n",
    "    computer_symbol = \"O\"\n",
    "    current_player = player_symbol\n",
    "\n",
    "    print(\"Welcome to Tic-Tac-Toe!\")\n",
    "\n",
    "    while True:\n",
    "        print_board(board)\n",
    "\n",
    "        if current_player == player_symbol:\n",
    "            row = int(input(\"Enter the row (1, 2, or 3): \")) - 1\n",
    "            col = int(input(\"Enter the column (1, 2, or 3): \")) - 1\n",
    "        else:\n",
    "            print(\"Computer's turn:\")\n",
    "            row, col = make_computer_move(board)\n",
    "\n",
    "        if 0 <= row < 3 and 0 <= col < 3 and board[row][col] == \" \":\n",
    "            board[row][col] = current_player\n",
    "\n",
    "            if check_winner(board, current_player):\n",
    "                print_board(board)\n",
    "                print(f\"{current_player} wins!\")\n",
    "                break\n",
    "            elif is_board_full(board):\n",
    "                print_board(board)\n",
    "                print(\"It's a tie!\")\n",
    "                break\n",
    "            else:\n",
    "                current_player = computer_symbol if current_player == player_symbol else player_symbol\n",
    "        else:\n",
    "            print(\"Invalid move. Please try again.\")\n",
    "\n",
    "if __name__ == \"__main__\":\n",
    "    main()\n"
   ]
  },
  {
   "cell_type": "code",
   "execution_count": 23,
   "id": "54429a66-2745-4572-b3cb-8c3e25cc8fce",
   "metadata": {},
   "outputs": [
    {
     "name": "stdin",
     "output_type": "stream",
     "text": [
      "Enter the number of Fibonacci terms to generate:  9\n"
     ]
    },
    {
     "name": "stdout",
     "output_type": "stream",
     "text": [
      "Fibonacci sequence up to 9 terms:\n",
      "[0, 1, 1, 2, 3, 5, 8, 13, 21]\n"
     ]
    }
   ],
   "source": [
    "n = int(input(\"Enter the number of Fibonacci terms to generate: \"))\n",
    "fibonacci_sequence = [0, 1]\n",
    "for _ in range(2, n):\n",
    "    next_term = fibonacci_sequence[-1] + fibonacci_sequence[-2]\n",
    "    fibonacci_sequence.append(next_term)\n",
    "print(f\"Fibonacci sequence up to {n} terms:\")\n",
    "print(fibonacci_sequence)"
   ]
  },
  {
   "cell_type": "code",
   "execution_count": 24,
   "id": "bf282bd9-b78a-4b8b-9035-a981174fe413",
   "metadata": {},
   "outputs": [
    {
     "name": "stdin",
     "output_type": "stream",
     "text": [
      "Enter the term number in the Fibonacci sequence:  9\n"
     ]
    },
    {
     "name": "stdout",
     "output_type": "stream",
     "text": [
      "The 9-th term in the Fibonacci sequence is: 34\n"
     ]
    }
   ],
   "source": [
    "memoization_dict = {0: 0, 1: 1}\n",
    "term_number = int(input(\"Enter the term number in the Fibonacci sequence: \"))\n",
    "for i in range(2, term_number + 1):\n",
    "    if i not in memoization_dict:\n",
    "        memoization_dict[i] = memoization_dict[i - 1] + memoization_dict[i - 2]\n",
    "result = memoization_dict[term_number]\n",
    "print(f\"The {term_number}-th term in the Fibonacci sequence is: {result}\")"
   ]
  },
  {
   "cell_type": "code",
   "execution_count": 25,
   "id": "46c3e82d-fd7c-47ed-86ba-b0057e17b2d8",
   "metadata": {},
   "outputs": [
    {
     "name": "stdin",
     "output_type": "stream",
     "text": [
      "Enter the year (e.g., 2023):  2028\n",
      "Enter the month (1-12):  3\n"
     ]
    },
    {
     "name": "stdout",
     "output_type": "stream",
     "text": [
      "Calendar for March 2028:\n",
      "\n",
      "     March 2028\n",
      "Mo Tu We Th Fr Sa Su\n",
      "       1  2  3  4  5\n",
      " 6  7  8  9 10 11 12\n",
      "13 14 15 16 17 18 19\n",
      "20 21 22 23 24 25 26\n",
      "27 28 29 30 31\n",
      "\n"
     ]
    }
   ],
   "source": [
    "import calendar\n",
    "year = int(input(\"Enter the year (e.g., 2023): \"))\n",
    "month = int(input(\"Enter the month (1-12): \"))\n",
    "if 1 <= month <= 12:\n",
    "    cal = calendar.month(year, month)\n",
    "    print(f\"Calendar for {calendar.month_name[month]} {year}:\\n\")\n",
    "    print(cal)\n",
    "else:\n",
    "    print(\"Invalid input. Please enter a valid month (1-12).\")\n"
   ]
  },
  {
   "cell_type": "code",
   "execution_count": 26,
   "id": "904957d6-d4ea-414e-98ae-a05ff7aa073c",
   "metadata": {},
   "outputs": [
    {
     "name": "stdout",
     "output_type": "stream",
     "text": [
      "Welcome to Blackjack!\n",
      "Your cards: ['A', '2'] current score: 13\n",
      "Computer's first card: Q\n"
     ]
    },
    {
     "name": "stdin",
     "output_type": "stream",
     "text": [
      "Type 'y' to get another card, 'n' to pass:  2\n"
     ]
    },
    {
     "name": "stdout",
     "output_type": "stream",
     "text": [
      "Your cards: ['A', '2'] current score: 13\n",
      "Computer's first card: Q\n",
      "You lose.\n"
     ]
    },
    {
     "name": "stdin",
     "output_type": "stream",
     "text": [
      "Do you want to play another round of Blackjack? Type 'y' or 'n':  y\n"
     ]
    },
    {
     "name": "stdout",
     "output_type": "stream",
     "text": [
      "Your cards: ['6', '5'] current score: 11\n",
      "Computer's first card: Q\n"
     ]
    },
    {
     "name": "stdin",
     "output_type": "stream",
     "text": [
      "Type 'y' to get another card, 'n' to pass:  y\n"
     ]
    },
    {
     "name": "stdout",
     "output_type": "stream",
     "text": [
      "Your cards: ['6', '5', '5'] current score: 16\n",
      "Computer's first card: Q\n"
     ]
    },
    {
     "name": "stdin",
     "output_type": "stream",
     "text": [
      "Type 'y' to get another card, 'n' to pass:  n\n"
     ]
    },
    {
     "name": "stdout",
     "output_type": "stream",
     "text": [
      "Your cards: ['6', '5', '5'] current score: 16\n",
      "Computer's first card: Q\n",
      "You lose.\n"
     ]
    },
    {
     "name": "stdin",
     "output_type": "stream",
     "text": [
      "Do you want to play another round of Blackjack? Type 'y' or 'n':  n\n"
     ]
    }
   ],
   "source": [
    "import random\n",
    "\n",
    "def draw_card():\n",
    "    cards = ['2', '3', '4', '5', '6', '7', '8', '9', '10', 'J', 'Q', 'K', 'A']\n",
    "    return random.choice(cards)\n",
    "\n",
    "def calculate_score(hand):\n",
    "    score = sum(map(lambda card: 11 if card == 'A' else 10 if card in ['K', 'Q', 'J'] else int(card), hand))\n",
    "    num_aces = hand.count('A')\n",
    "\n",
    "    while score > 21 and num_aces:\n",
    "        score -= 10\n",
    "        num_aces -= 1\n",
    "\n",
    "    return score\n",
    "\n",
    "def display_board(player_hand, computer_hand, player_score, computer_score, reveal=True):\n",
    "    print(\"Your cards:\", player_hand, f\"current score: {player_score}\")\n",
    "    if reveal:\n",
    "        print(\"Computer's first card:\", computer_hand[0])\n",
    "    else:\n",
    "        print(\"Computer's cards:\", computer_hand, f\"current score: {computer_score}\")\n",
    "\n",
    "print(\"Welcome to Blackjack!\")\n",
    "play_again = True\n",
    "\n",
    "while play_again:\n",
    "    player_hand = [draw_card(), draw_card()]\n",
    "    computer_hand = [draw_card(), draw_card()]\n",
    "\n",
    "    game_over = False\n",
    "\n",
    "    while not game_over:\n",
    "        player_score = calculate_score(player_hand)\n",
    "        computer_score = calculate_score(computer_hand)\n",
    "\n",
    "        display_board(player_hand, computer_hand, player_score, computer_score)\n",
    "\n",
    "        if player_score == 0 or computer_score == 0 or player_score > 21:\n",
    "            game_over = True\n",
    "        else:\n",
    "            draw_another_card = input(\"Type 'y' to get another card, 'n' to pass: \").lower()\n",
    "            if draw_another_card == 'y':\n",
    "                player_hand.append(draw_card())\n",
    "            else:\n",
    "                game_over = True\n",
    "\n",
    "    while computer_score != 0 and computer_score < 17:\n",
    "        computer_hand.append(draw_card())\n",
    "        computer_score = calculate_score(computer_hand)\n",
    "\n",
    "    display_board(player_hand, computer_hand, player_score, computer_score, reveal=True)\n",
    "\n",
    "    if player_score > 21:\n",
    "        print(\"You went over. You lose.\")\n",
    "    elif computer_score > 21:\n",
    "        print(\"Computer went over. You win!\")\n",
    "    elif player_score > computer_score:\n",
    "        print(\"You win!\")\n",
    "    elif player_score < computer_score:\n",
    "        print(\"You lose.\")\n",
    "    else:\n",
    "        print(\"It's a draw!\")\n",
    "\n",
    "    another_round = input(\"Do you want to play another round of Blackjack? Type 'y' or 'n': \").lower()\n",
    "    play_again = another_round == 'y'"
   ]
  },
  {
   "cell_type": "code",
   "execution_count": null,
   "id": "b3bf0e3c-f5f2-4d18-b60f-7e2f13f4bbd7",
   "metadata": {},
   "outputs": [],
   "source": []
  }
 ],
 "metadata": {
  "kernelspec": {
   "display_name": "Python 3 (ipykernel)",
   "language": "python",
   "name": "python3"
  },
  "language_info": {
   "codemirror_mode": {
    "name": "ipython",
    "version": 3
   },
   "file_extension": ".py",
   "mimetype": "text/x-python",
   "name": "python",
   "nbconvert_exporter": "python",
   "pygments_lexer": "ipython3",
   "version": "3.10.8"
  }
 },
 "nbformat": 4,
 "nbformat_minor": 5
}
